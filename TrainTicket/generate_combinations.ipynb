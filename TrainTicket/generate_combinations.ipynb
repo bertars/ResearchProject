{
 "cells": [
  {
   "cell_type": "code",
   "execution_count": 1,
   "metadata": {},
   "outputs": [],
   "source": [
    "from itertools import product\n",
    "import os"
   ]
  },
  {
   "cell_type": "code",
   "execution_count": 2,
   "metadata": {},
   "outputs": [],
   "source": [
    "self_tracing_treatments = [('false', '1.0', '1'), ('true', '0.5', '10'), ('true', '0.1', '0')]\n",
    "collector_sample_rate_treatments = ['1.0', '0.5', '0.1']\n",
    "collector_type_treatments = [\n",
    "    ('true','true','false','true','true','false'),  # default\n",
    "    ('true','true','true','true','true','true'),  # All TRUE\n",
    "    ('true','false','false','false','false','false')  # ONLY activemq\n",
    "]\n",
    "combinations = list(product(self_tracing_treatments, collector_sample_rate_treatments, collector_type_treatments))\n",
    "# combinations"
   ]
  },
  {
   "cell_type": "code",
   "execution_count": 3,
   "metadata": {},
   "outputs": [],
   "source": [
    "os.makedirs('env_files', exist_ok=True)"
   ]
  },
  {
   "cell_type": "code",
   "execution_count": 4,
   "metadata": {},
   "outputs": [
    {
     "name": "stdout",
     "output_type": "stream",
     "text": [
      "Generated 27 .env files for combinations.\n"
     ]
    }
   ],
   "source": [
    "for i, combo in enumerate(combinations):\n",
    "    self_tracing, sample_rate, collector_type = combo\n",
    "    env_filename = f'env_files/combination_{i+1}.env'\n",
    "    \n",
    "    with open(env_filename, 'w') as file:\n",
    "        file.write(f\"IMG_REPO=codewisdom\\n\")\n",
    "        file.write(f\"IMG_TAG=0.2.0\\n\")\n",
    "        file.write(f\"NAMESPACE=codewisdom\\n\")\n",
    "        file.write(f\"TAG=0.2.0\\n\")\n",
    "\n",
    "        file.write(f\"ZIPKIN_SELF_TRACING_ENABLED={self_tracing[0]}\\n\")\n",
    "        file.write(f\"ZIPKIN_SELF_TRACING_SAMPLE_RATE={self_tracing[1]}\\n\")\n",
    "        file.write(f\"ZIPKIN_SELF_TRACING_TRACES_PER_SECOND={self_tracing[2]}\\n\")\n",
    "\n",
    "        file.write(f\"ZIPKIN_COLLECTOR_SAMPLE_RATE={sample_rate}\\n\")\n",
    "        \n",
    "        file.write(f\"ZIPKIN_COLLECTOR_ACTIVEMQ_ENABLED={collector_type[0]}\\n\")\n",
    "        file.write(f\"ZIPKIN_COLLECTOR_HTTP_ENABLED={collector_type[1]}\\n\")\n",
    "        file.write(f\"ZIPKIN_COLLECTOR_GRPC_ENABLED={collector_type[2]}\\n\")\n",
    "        file.write(f\"ZIPKIN_COLLECTOR_KAFKA_ENABLED={collector_type[3]}\\n\")\n",
    "        file.write(f\"ZIPKIN_COLLECTOR_RABBITMQ_ENABLED={collector_type[4]}\\n\")\n",
    "        file.write(f\"ZIPKIN_COLLECTOR_SCRIBE_ENABLED={collector_type[5]}\\n\")\n",
    "        \n",
    "\n",
    "print(f\"Generated {len(combinations)} .env files for combinations.\")"
   ]
  }
 ],
 "metadata": {
  "kernelspec": {
   "display_name": "Python 3",
   "language": "python",
   "name": "python3"
  },
  "language_info": {
   "codemirror_mode": {
    "name": "ipython",
    "version": 3
   },
   "file_extension": ".py",
   "mimetype": "text/x-python",
   "name": "python",
   "nbconvert_exporter": "python",
   "pygments_lexer": "ipython3",
   "version": "3.11.8"
  }
 },
 "nbformat": 4,
 "nbformat_minor": 2
}
